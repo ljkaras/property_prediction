{
 "cells": [
  {
   "cell_type": "markdown",
   "id": "ec2b0c58",
   "metadata": {},
   "source": [
    "# IMPORTS"
   ]
  },
  {
   "cell_type": "code",
   "execution_count": 9,
   "id": "94cafac6",
   "metadata": {
    "ExecuteTime": {
     "end_time": "2024-01-09T18:42:19.229388Z",
     "start_time": "2024-01-09T18:42:18.042852Z"
    }
   },
   "outputs": [],
   "source": [
    "from rdkit import Chem\n",
    "from rdkit.Chem import AllChem, Draw\n",
    "import numpy as np\n",
    "import pandas as pd"
   ]
  },
  {
   "cell_type": "markdown",
   "id": "dc9a4a97",
   "metadata": {
    "ExecuteTime": {
     "end_time": "2024-01-08T16:06:38.800003Z",
     "start_time": "2024-01-08T16:06:38.770552Z"
    }
   },
   "source": [
    "# RDKIT FUNCTIONS"
   ]
  },
  {
   "cell_type": "markdown",
   "id": "9d30e8d5",
   "metadata": {},
   "source": [
    "## Circular Fingerprints"
   ]
  },
  {
   "cell_type": "markdown",
   "id": "0151a314",
   "metadata": {},
   "source": [
    "### Example"
   ]
  },
  {
   "cell_type": "code",
   "execution_count": 14,
   "id": "c2d3bb8f",
   "metadata": {
    "ExecuteTime": {
     "end_time": "2024-01-09T18:44:58.279070Z",
     "start_time": "2024-01-09T18:44:58.182998Z"
    }
   },
   "outputs": [
    {
     "name": "stdout",
     "output_type": "stream",
     "text": [
      "Indices of set bits: [17, 53, 55, 60, 76, 85, 91, 101, 109, 122]\n"
     ]
    },
    {
     "data": {
      "image/png": "[encoded data removed]",
      "text/plain": [
       "<PIL.PngImagePlugin.PngImageFile image mode=RGB size=150x150>"
      ]
     },
     "execution_count": 14,
     "metadata": {},
     "output_type": "execute_result"
    }
   ],
   "source": [
    "# Example SMILES\n",
    "smiles = \"BrC1=CC=CC=C1\"  \n",
    "\n",
    "# Create an RDKit molecule object from SMILES\n",
    "mol = Chem.MolFromSmiles(smiles)\n",
    "\n",
    "# Generate Morgan fingerprints for the substructure\n",
    "radius = 2  # adjust the radius as needed\n",
    "bit = {}\n",
    "fingerprint = AllChem.GetMorganFingerprintAsBitVect(mol, radius, nBits=124, bitInfo=bit)\n",
    "\n",
    "# Print the indices of the set bits in the Morgan fingerprint\n",
    "set_bits_indices = list(np.nonzero(np.array(fingerprint))[0])\n",
    "print(\"Indices of set bits:\", set_bits_indices)\n",
    "\n",
    "Draw.DrawMorganBit(mol,17, bit)"
   ]
  },
  {
   "cell_type": "markdown",
   "id": "3d62a52d",
   "metadata": {},
   "source": [
    "### FUNCTION"
   ]
  },
  {
   "cell_type": "code",
   "execution_count": 15,
   "id": "866e1d3c",
   "metadata": {
    "ExecuteTime": {
     "end_time": "2024-01-09T18:45:02.576830Z",
     "start_time": "2024-01-09T18:45:02.556650Z"
    }
   },
   "outputs": [],
   "source": [
    "def compute_fingerprints(df, smiles_column='smiles', fp_type='morgan', radius=2, fpSize=1024):\n",
    "    \"\"\"\n",
    "    Compute fingerprints for each SMILES in a DataFrame and add the fingerprint bits as separate columns.\n",
    "\n",
    "    Parameters:\n",
    "    - df (pd.DataFrame): DataFrame containing SMILES.\n",
    "    - smiles_column (str): Name of the column containing SMILES.\n",
    "    - fp_type (str): Type of fingerprint ('morgan', 'rdkit', 'torsional', 'atom_pair').\n",
    "    - radius (int): Radius parameter for Morgan fingerprints.\n",
    "    - n_bits (int): Number of bits in the fingerprint.\n",
    "\n",
    "    Returns:\n",
    "    - pd.DataFrame: DataFrame with added fingerprint bit columns.\n",
    "    \"\"\"\n",
    "\n",
    "    # Initialize a list to store fingerprint bits\n",
    "    fingerprint_bits_list = []\n",
    "\n",
    "    # Define fingerprint calculation method based on fp_type\n",
    "    if fp_type == 'morgan':\n",
    "        fingerprint_function = lambda mol: AllChem.GetMorganFingerprintAsBitVect(mol, radius, nBits=fpSize)\n",
    "    elif fp_type == 'rdkit':\n",
    "        fingerprint_function = lambda mol: AllChem.PatternFingerprint(mol, fpSize=fpSize)\n",
    "    elif fp_type == 'torsional':\n",
    "        fingerprint_function = lambda mol: AllChem.GetHashedTopologicalTorsionFingerprintAsBitVect(mol, nBits=fpSize)\n",
    "    elif fp_type == 'atom_pair':\n",
    "        fingerprint_function = lambda mol: AllChem.GetHashedAtomPairFingerprintAsBitVect(mol, nBits=fpSize)\n",
    "    else:\n",
    "        raise ValueError(\"Invalid fingerprint type. Supported types are 'morgan', 'rdkit', 'torsional', 'atom_pair'.\")\n",
    "\n",
    "    # Compute fingerprints for each SMILES\n",
    "    for smiles in df[smiles_column]:\n",
    "        mol = Chem.MolFromSmiles(smiles)\n",
    "        if mol is not None:\n",
    "            # Compute fingerprint bits\n",
    "            fingerprint_bits_list.append(list(map(int, fingerprint_function(mol).ToBitString())))\n",
    "        else:\n",
    "            # If SMILES cannot be converted to a valid molecule, append a list of Nones\n",
    "            fingerprint_bits_list.append([None] * fpSize)\n",
    "\n",
    "    # Create column names for fingerprint bits\n",
    "    column_names = [f'bit_{i+1}' for i in range(fpSize)]\n",
    "\n",
    "    # Concatenate the fingerprint bits as new columns to the DataFrame\n",
    "    df = pd.concat([df, pd.DataFrame(fingerprint_bits_list, columns=column_names)], axis=1)\n",
    "\n",
    "    return df"
   ]
  },
  {
   "cell_type": "code",
   "execution_count": 16,
   "id": "9257d818",
   "metadata": {
    "ExecuteTime": {
     "end_time": "2024-01-09T18:45:04.342114Z",
     "start_time": "2024-01-09T18:45:04.263358Z"
    }
   },
   "outputs": [
    {
     "data": {
      "text/html": [
       "<div>\n",
       "<style scoped>\n",
       "    .dataframe tbody tr th:only-of-type {\n",
       "        vertical-align: middle;\n",
       "    }\n",
       "\n",
       "    .dataframe tbody tr th {\n",
       "        vertical-align: top;\n",
       "    }\n",
       "\n",
       "    .dataframe thead th {\n",
       "        text-align: right;\n",
       "    }\n",
       "</style>\n",
       "<table border=\"1\" class=\"dataframe\">\n",
       "  <thead>\n",
       "    <tr style=\"text-align: right;\">\n",
       "      <th></th>\n",
       "      <th>smiles</th>\n",
       "      <th>bit_1</th>\n",
       "      <th>bit_2</th>\n",
       "      <th>bit_3</th>\n",
       "      <th>bit_4</th>\n",
       "      <th>bit_5</th>\n",
       "      <th>bit_6</th>\n",
       "      <th>bit_7</th>\n",
       "      <th>bit_8</th>\n",
       "      <th>bit_9</th>\n",
       "      <th>...</th>\n",
       "      <th>bit_503</th>\n",
       "      <th>bit_504</th>\n",
       "      <th>bit_505</th>\n",
       "      <th>bit_506</th>\n",
       "      <th>bit_507</th>\n",
       "      <th>bit_508</th>\n",
       "      <th>bit_509</th>\n",
       "      <th>bit_510</th>\n",
       "      <th>bit_511</th>\n",
       "      <th>bit_512</th>\n",
       "    </tr>\n",
       "  </thead>\n",
       "  <tbody>\n",
       "    <tr>\n",
       "      <th>0</th>\n",
       "      <td>CCO</td>\n",
       "      <td>0</td>\n",
       "      <td>0</td>\n",
       "      <td>0</td>\n",
       "      <td>0</td>\n",
       "      <td>0</td>\n",
       "      <td>0</td>\n",
       "      <td>0</td>\n",
       "      <td>0</td>\n",
       "      <td>0</td>\n",
       "      <td>...</td>\n",
       "      <td>0</td>\n",
       "      <td>0</td>\n",
       "      <td>0</td>\n",
       "      <td>0</td>\n",
       "      <td>0</td>\n",
       "      <td>0</td>\n",
       "      <td>0</td>\n",
       "      <td>0</td>\n",
       "      <td>0</td>\n",
       "      <td>0</td>\n",
       "    </tr>\n",
       "    <tr>\n",
       "      <th>1</th>\n",
       "      <td>CCN</td>\n",
       "      <td>0</td>\n",
       "      <td>0</td>\n",
       "      <td>0</td>\n",
       "      <td>0</td>\n",
       "      <td>0</td>\n",
       "      <td>0</td>\n",
       "      <td>0</td>\n",
       "      <td>0</td>\n",
       "      <td>0</td>\n",
       "      <td>...</td>\n",
       "      <td>0</td>\n",
       "      <td>0</td>\n",
       "      <td>0</td>\n",
       "      <td>0</td>\n",
       "      <td>0</td>\n",
       "      <td>0</td>\n",
       "      <td>1</td>\n",
       "      <td>0</td>\n",
       "      <td>0</td>\n",
       "      <td>0</td>\n",
       "    </tr>\n",
       "    <tr>\n",
       "      <th>2</th>\n",
       "      <td>CCOCC</td>\n",
       "      <td>0</td>\n",
       "      <td>0</td>\n",
       "      <td>0</td>\n",
       "      <td>0</td>\n",
       "      <td>0</td>\n",
       "      <td>0</td>\n",
       "      <td>0</td>\n",
       "      <td>0</td>\n",
       "      <td>0</td>\n",
       "      <td>...</td>\n",
       "      <td>0</td>\n",
       "      <td>0</td>\n",
       "      <td>0</td>\n",
       "      <td>0</td>\n",
       "      <td>0</td>\n",
       "      <td>0</td>\n",
       "      <td>0</td>\n",
       "      <td>0</td>\n",
       "      <td>0</td>\n",
       "      <td>0</td>\n",
       "    </tr>\n",
       "  </tbody>\n",
       "</table>\n",
       "<p>3 rows × 513 columns</p>\n",
       "</div>"
      ],
      "text/plain": [
       "  smiles  bit_1  bit_2  bit_3  bit_4  bit_5  bit_6  bit_7  bit_8  bit_9  ...  \\\n",
       "0    CCO      0      0      0      0      0      0      0      0      0  ...   \n",
       "1    CCN      0      0      0      0      0      0      0      0      0  ...   \n",
       "2  CCOCC      0      0      0      0      0      0      0      0      0  ...   \n",
       "\n",
       "   bit_503  bit_504  bit_505  bit_506  bit_507  bit_508  bit_509  bit_510  \\\n",
       "0        0        0        0        0        0        0        0        0   \n",
       "1        0        0        0        0        0        0        1        0   \n",
       "2        0        0        0        0        0        0        0        0   \n",
       "\n",
       "   bit_511  bit_512  \n",
       "0        0        0  \n",
       "1        0        0  \n",
       "2        0        0  \n",
       "\n",
       "[3 rows x 513 columns]"
      ]
     },
     "metadata": {},
     "output_type": "display_data"
    }
   ],
   "source": [
    "data = {'smiles': ['CCO', 'CCN', 'CCOCC']}\n",
    "dataframe = pd.DataFrame(data)\n",
    "\n",
    "# Example usage for Morgan fingerprints\n",
    "df_morgan = compute_fingerprints(dataframe, fp_type='morgan', radius=2, fpSize=1024)\n",
    "# display(df_morgan)\n",
    "\n",
    "# Example usage for RDKit fingerprints\n",
    "df_rdkit = compute_fingerprints(dataframe, fp_type='rdkit', fpSize=128)\n",
    "# display(df_rdkit)\n",
    "\n",
    "# Example usage for RDKit torsional fingerprints\n",
    "df_torsional = compute_fingerprints(dataframe, fp_type='torsional', fpSize=512)\n",
    "# display(df_torsional)\n",
    "\n",
    "# Example usage for RDKit atom pair fingerprints\n",
    "df_atom_pair = compute_fingerprints(dataframe, fp_type='atom_pair', fpSize=512)\n",
    "display(df_atom_pair)"
   ]
  },
  {
   "cell_type": "code",
   "execution_count": null,
   "id": "0ca0b084",
   "metadata": {},
   "outputs": [],
   "source": []
  }
 ],
 "metadata": {
  "kernelspec": {
   "display_name": "ullmann_project",
   "language": "python",
   "name": "ullmann_project"
  },
  "language_info": {
   "codemirror_mode": {
    "name": "ipython",
    "version": 3
   },
   "file_extension": ".py",
   "mimetype": "text/x-python",
   "name": "python",
   "nbconvert_exporter": "python",
   "pygments_lexer": "ipython3",
   "version": "3.9.12"
  },
  "toc": {
   "base_numbering": 1,
   "nav_menu": {},
   "number_sections": true,
   "sideBar": true,
   "skip_h1_title": false,
   "title_cell": "Table of Contents",
   "title_sidebar": "Contents",
   "toc_cell": false,
   "toc_position": {},
   "toc_section_display": true,
   "toc_window_display": false
  }
 },
 "nbformat": 4,
 "nbformat_minor": 5
}
